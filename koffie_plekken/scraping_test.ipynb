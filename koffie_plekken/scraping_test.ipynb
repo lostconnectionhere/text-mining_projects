{
 "cells": [
  {
   "cell_type": "code",
   "execution_count": 13,
   "metadata": {},
   "outputs": [
    {
     "name": "stderr",
     "output_type": "stream",
     "text": [
      "/var/folders/kd/xcgd1prn3b7c2jnsrf4g_qw40000gn/T/ipykernel_44189/1365084604.py:14: DeprecationWarning: use options instead of chrome_options\n",
      "  driver = webdriver.Chrome(chrome_options=chrome_options)\n"
     ]
    },
    {
     "ename": "ElementNotInteractableException",
     "evalue": "Message: element not interactable\n  (Session info: chrome=109.0.5414.119)\nStacktrace:\n0   chromedriver                        0x00000001073edfa8 chromedriver + 4886440\n1   chromedriver                        0x000000010736b643 chromedriver + 4351555\n2   chromedriver                        0x0000000106fb999d chromedriver + 477597\n3   chromedriver                        0x0000000106ffff51 chromedriver + 765777\n4   chromedriver                        0x0000000106ff0d73 chromedriver + 703859\n5   chromedriver                        0x00000001070245d2 chromedriver + 914898\n6   chromedriver                        0x0000000106ff03dd chromedriver + 701405\n7   chromedriver                        0x000000010702478e chromedriver + 915342\n8   chromedriver                        0x000000010703f5fe chromedriver + 1025534\n9   chromedriver                        0x00000001070243a3 chromedriver + 914339\n10  chromedriver                        0x0000000106fee57f chromedriver + 693631\n11  chromedriver                        0x0000000106fefb1e chromedriver + 699166\n12  chromedriver                        0x00000001073bab9e chromedriver + 4676510\n13  chromedriver                        0x00000001073bf91e chromedriver + 4696350\n14  chromedriver                        0x00000001073c719f chromedriver + 4727199\n15  chromedriver                        0x00000001073c081a chromedriver + 4700186\n16  chromedriver                        0x0000000107393a62 chromedriver + 4516450\n17  chromedriver                        0x00000001073df8c8 chromedriver + 4827336\n18  chromedriver                        0x00000001073dfa45 chromedriver + 4827717\n19  chromedriver                        0x00000001073f57ef chromedriver + 4917231\n20  libsystem_pthread.dylib             0x00007ff80d5944e1 _pthread_start + 125\n21  libsystem_pthread.dylib             0x00007ff80d58ff6b thread_start + 15\n",
     "output_type": "error",
     "traceback": [
      "\u001b[0;31m---------------------------------------------------------------------------\u001b[0m",
      "\u001b[0;31mElementNotInteractableException\u001b[0m           Traceback (most recent call last)",
      "Cell \u001b[0;32mIn[13], line 22\u001b[0m\n\u001b[1;32m     20\u001b[0m driver\u001b[39m.\u001b[39mget(\u001b[39m\"\u001b[39m\u001b[39mhttps://europeancoffeetrip.com/\u001b[39m\u001b[39m\"\u001b[39m)\n\u001b[1;32m     21\u001b[0m driver\u001b[39m.\u001b[39mimplicitly_wait(\u001b[39m10\u001b[39m)\n\u001b[0;32m---> 22\u001b[0m driver\u001b[39m.\u001b[39;49mfind_element(By\u001b[39m.\u001b[39;49mID, \u001b[39m'\u001b[39;49m\u001b[39monesignal-slidedown-allow-button\u001b[39;49m\u001b[39m'\u001b[39;49m)\u001b[39m.\u001b[39;49mclick() \u001b[39m#accept website cookies\u001b[39;00m\n\u001b[1;32m     23\u001b[0m driver\u001b[39m.\u001b[39mfind_element(By\u001b[39m.\u001b[39mID, \u001b[39m'\u001b[39m\u001b[39monesignal-slidedown-allow-button\u001b[39m\u001b[39m'\u001b[39m)\u001b[39m.\u001b[39mclick() \u001b[39m#click to city guides\u001b[39;00m\n",
      "File \u001b[0;32m~/Documents/Text Mining Project/.env/lib/python3.10/site-packages/selenium/webdriver/remote/webelement.py:93\u001b[0m, in \u001b[0;36mWebElement.click\u001b[0;34m(self)\u001b[0m\n\u001b[1;32m     91\u001b[0m \u001b[39mdef\u001b[39;00m \u001b[39mclick\u001b[39m(\u001b[39mself\u001b[39m) \u001b[39m-\u001b[39m\u001b[39m>\u001b[39m \u001b[39mNone\u001b[39;00m:\n\u001b[1;32m     92\u001b[0m \u001b[39m    \u001b[39m\u001b[39m\"\"\"Clicks the element.\"\"\"\u001b[39;00m\n\u001b[0;32m---> 93\u001b[0m     \u001b[39mself\u001b[39;49m\u001b[39m.\u001b[39;49m_execute(Command\u001b[39m.\u001b[39;49mCLICK_ELEMENT)\n",
      "File \u001b[0;32m~/Documents/Text Mining Project/.env/lib/python3.10/site-packages/selenium/webdriver/remote/webelement.py:403\u001b[0m, in \u001b[0;36mWebElement._execute\u001b[0;34m(self, command, params)\u001b[0m\n\u001b[1;32m    401\u001b[0m     params \u001b[39m=\u001b[39m {}\n\u001b[1;32m    402\u001b[0m params[\u001b[39m\"\u001b[39m\u001b[39mid\u001b[39m\u001b[39m\"\u001b[39m] \u001b[39m=\u001b[39m \u001b[39mself\u001b[39m\u001b[39m.\u001b[39m_id\n\u001b[0;32m--> 403\u001b[0m \u001b[39mreturn\u001b[39;00m \u001b[39mself\u001b[39;49m\u001b[39m.\u001b[39;49m_parent\u001b[39m.\u001b[39;49mexecute(command, params)\n",
      "File \u001b[0;32m~/Documents/Text Mining Project/.env/lib/python3.10/site-packages/selenium/webdriver/remote/webdriver.py:440\u001b[0m, in \u001b[0;36mWebDriver.execute\u001b[0;34m(self, driver_command, params)\u001b[0m\n\u001b[1;32m    438\u001b[0m response \u001b[39m=\u001b[39m \u001b[39mself\u001b[39m\u001b[39m.\u001b[39mcommand_executor\u001b[39m.\u001b[39mexecute(driver_command, params)\n\u001b[1;32m    439\u001b[0m \u001b[39mif\u001b[39;00m response:\n\u001b[0;32m--> 440\u001b[0m     \u001b[39mself\u001b[39;49m\u001b[39m.\u001b[39;49merror_handler\u001b[39m.\u001b[39;49mcheck_response(response)\n\u001b[1;32m    441\u001b[0m     response[\u001b[39m\"\u001b[39m\u001b[39mvalue\u001b[39m\u001b[39m\"\u001b[39m] \u001b[39m=\u001b[39m \u001b[39mself\u001b[39m\u001b[39m.\u001b[39m_unwrap_value(response\u001b[39m.\u001b[39mget(\u001b[39m\"\u001b[39m\u001b[39mvalue\u001b[39m\u001b[39m\"\u001b[39m, \u001b[39mNone\u001b[39;00m))\n\u001b[1;32m    442\u001b[0m     \u001b[39mreturn\u001b[39;00m response\n",
      "File \u001b[0;32m~/Documents/Text Mining Project/.env/lib/python3.10/site-packages/selenium/webdriver/remote/errorhandler.py:245\u001b[0m, in \u001b[0;36mErrorHandler.check_response\u001b[0;34m(self, response)\u001b[0m\n\u001b[1;32m    243\u001b[0m         alert_text \u001b[39m=\u001b[39m value[\u001b[39m\"\u001b[39m\u001b[39malert\u001b[39m\u001b[39m\"\u001b[39m]\u001b[39m.\u001b[39mget(\u001b[39m\"\u001b[39m\u001b[39mtext\u001b[39m\u001b[39m\"\u001b[39m)\n\u001b[1;32m    244\u001b[0m     \u001b[39mraise\u001b[39;00m exception_class(message, screen, stacktrace, alert_text)  \u001b[39m# type: ignore[call-arg]  # mypy is not smart enough here\u001b[39;00m\n\u001b[0;32m--> 245\u001b[0m \u001b[39mraise\u001b[39;00m exception_class(message, screen, stacktrace)\n",
      "\u001b[0;31mElementNotInteractableException\u001b[0m: Message: element not interactable\n  (Session info: chrome=109.0.5414.119)\nStacktrace:\n0   chromedriver                        0x00000001073edfa8 chromedriver + 4886440\n1   chromedriver                        0x000000010736b643 chromedriver + 4351555\n2   chromedriver                        0x0000000106fb999d chromedriver + 477597\n3   chromedriver                        0x0000000106ffff51 chromedriver + 765777\n4   chromedriver                        0x0000000106ff0d73 chromedriver + 703859\n5   chromedriver                        0x00000001070245d2 chromedriver + 914898\n6   chromedriver                        0x0000000106ff03dd chromedriver + 701405\n7   chromedriver                        0x000000010702478e chromedriver + 915342\n8   chromedriver                        0x000000010703f5fe chromedriver + 1025534\n9   chromedriver                        0x00000001070243a3 chromedriver + 914339\n10  chromedriver                        0x0000000106fee57f chromedriver + 693631\n11  chromedriver                        0x0000000106fefb1e chromedriver + 699166\n12  chromedriver                        0x00000001073bab9e chromedriver + 4676510\n13  chromedriver                        0x00000001073bf91e chromedriver + 4696350\n14  chromedriver                        0x00000001073c719f chromedriver + 4727199\n15  chromedriver                        0x00000001073c081a chromedriver + 4700186\n16  chromedriver                        0x0000000107393a62 chromedriver + 4516450\n17  chromedriver                        0x00000001073df8c8 chromedriver + 4827336\n18  chromedriver                        0x00000001073dfa45 chromedriver + 4827717\n19  chromedriver                        0x00000001073f57ef chromedriver + 4917231\n20  libsystem_pthread.dylib             0x00007ff80d5944e1 _pthread_start + 125\n21  libsystem_pthread.dylib             0x00007ff80d58ff6b thread_start + 15\n"
     ]
    }
   ],
   "source": [
    "from selenium import webdriver\n",
    "from selenium.webdriver.chrome.service import Service\n",
    "from webdriver_manager.chrome import ChromeDriverManager\n",
    "from selenium.webdriver.chrome.options import Options\n",
    "from selenium.webdriver.common.by import By\n",
    "from selenium.webdriver.support.ui import WebDriverWait\n",
    "from selenium.webdriver.support import expected_conditions as EC\n",
    "from bs4 import BeautifulSoup\n",
    "import time\n",
    "\n",
    "chrome_options = webdriver.ChromeOptions()\n",
    "prefs = {\"profile.default_content_setting_values.notifications\" : 2}\n",
    "chrome_options.add_experimental_option(\"prefs\",prefs)\n",
    "driver = webdriver.Chrome(chrome_options=chrome_options)\n",
    "options = Options()\n",
    "options.add_experimental_option(\"detach\", True) #add 'detach' option to keep chromedriver open after visiting\n",
    "\n",
    "driver = webdriver.Chrome(service=Service(ChromeDriverManager().install()), options=options) #select the browser to open the page\n",
    "\n",
    "driver.get(\"https://europeancoffeetrip.com/\")\n",
    "driver.implicitly_wait(3)\n",
    "driver.find_element(By.ID, 'onesignal-slidedown-allow-button').click() #accept website cookies\n",
    "driver.find_element(By.ID, 'onesignal-slidedown-allow-button').click() #click to city guides"
   ]
  }
 ],
 "metadata": {
  "kernelspec": {
   "display_name": ".env",
   "language": "python",
   "name": "python3"
  },
  "language_info": {
   "codemirror_mode": {
    "name": "ipython",
    "version": 3
   },
   "file_extension": ".py",
   "mimetype": "text/x-python",
   "name": "python",
   "nbconvert_exporter": "python",
   "pygments_lexer": "ipython3",
   "version": "3.10.9"
  },
  "orig_nbformat": 4,
  "vscode": {
   "interpreter": {
    "hash": "b60f23928ea89522751c7f701c6087aa57828da8bbbab870d231cc5711a0531f"
   }
  }
 },
 "nbformat": 4,
 "nbformat_minor": 2
}
