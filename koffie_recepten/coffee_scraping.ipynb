{
 "cells": [
  {
   "cell_type": "code",
   "execution_count": 4,
   "metadata": {},
   "outputs": [],
   "source": [
    "import pandas as pd\n",
    "import numpy as np\n",
    "import requests\n",
    "from bs4 import BeautifulSoup"
   ]
  },
  {
   "cell_type": "code",
   "execution_count": 5,
   "metadata": {},
   "outputs": [
    {
     "data": {
      "text/plain": [
       "94"
      ]
     },
     "execution_count": 5,
     "metadata": {},
     "output_type": "execute_result"
    }
   ],
   "source": [
    "coffee_recepten = []\n",
    "\n",
    "for i in range(1,5):\n",
    "    response = requests.get(f\"https://www.dekoffiefilters.nl/recepten/page/{i}/\")\n",
    "    content = response.content\n",
    "    parser = BeautifulSoup(content, 'html.parser')\n",
    "    body = parser.body\n",
    "    recepten = body.find_all(class_=\"article-teaser\")\n",
    "    coffee_recepten.extend(recepten) \n",
    "len(coffee_recepten)"
   ]
  },
  {
   "cell_type": "code",
   "execution_count": 6,
   "metadata": {},
   "outputs": [
    {
     "name": "stdout",
     "output_type": "stream",
     "text": [
      "[['Traditionele Arretjescake', '\\n\\nDeze cake is perfect bij de koffie door zijn intense chocoladesmaak.\\n\\n'], ['Zo maak je fryramisu (tiramisu met Fryske dúmkes)', '\\n\\nFyramisu. Want wat met lange vingers kan, kan ook met Fryske dúmkes. Bjusterbaarlik lekker. \\n\\n'], ['Dé frisse koffiecocktail van deze zomer', '\\n\\nProbeer deze heerlijke frisse koffiecocktail met de likeur van Hollands Genoegen.\\n\\n'], ['De populaire Dalgona koffie', '\\n\\nFluffy ijskoffie is de koffie trend van 2020. Het is makkelijk te maken en ook nog eens lekker.\\n\\n'], ['Koffie milkshake met vanille-ijs en banaan', '\\n\\nZin in een zoete koffie variant? Deze koffie milkshake met vanille-ijs en banaan is het perfecte drankje.\\n\\n'], ['Filterkoffie met ijsblokjes van cola', '\\n\\nVoor deze ‘cold brew’ heb je alleen filterkoffie en cola nodig. Gezet volgens de Japanse zetmethode.\\n\\n'], ['Zó maak je cantuccini', '\\n\\nCantuccini, ooit van gehoord? Dit Italiaanse amandelkoekje wordt vaak in de horeca bij de koffie geserveerd.\\n\\n'], ['Oelala: Espresso Martini', '\\n\\nPunten scoren? Serveer een ijskoude Espresso Martini. \\n\\n'], ['Frisse filterkoffie met tonic', '\\n\\nVoor welke gelegenheid je deze filterkoffie met tonic ook zet, het ijs is meteen gebroken. Wat een smaakexplosie! \\ufeff\\n\\n'], ['IJskoffie voor het hele jaar door', '\\n\\nIJskoffie alleen in de zomer? Nee hoor, deze koffie kan het hele jaar door. \\n\\n'], ['Panforte: perfect voor bij een espresso', '\\n\\nAlle noten verzamelen! Deze panforte moet je echt eens maken. Hij smaakt fantastisch bij een espresso door de mix van verschillende noten. \\n\\n'], ['Filterkoffie met steranijs', '\\n\\nHeb je het zetten van een goede filterkoffie onder de knie? Experimenteer dan eens door een ingrediënt toe te voegen.\\n\\n'], ['Mazagran: cold brew coffee met citroen', '\\n\\nEen verrassende koude koffiedrank is Mazagran: espresso met citroensap en mineraalwater.\\n\\n'], ['Voor bij de koffie met kerst: kerstkoffiekoekjes', '\\n\\nJe hebt koffie. Je hebt koek. Je hebt kerst. Mix deze ‘elementen’ tot een geheel en je krijgt deze overheerlijke kerstkoffiekoekjes.\\n\\n'], ['Koffiesnack: appel met pindakaas en gemalen koffiebonen', '\\n\\nZin in een snack bij de koffie? Hebben we voor je: appel met pindakaas en gemalen koffiebonen. Verrassend lekker! \\n\\n'], ['Ontbijtshake met banaan en koffie', '\\n\\nGeen tijd om te ontbijten? Met deze smoothie van banaan en koffie vlieg je zo de deur uit en heb je ook meteen je dosis cafeïne binnen. \\n\\n'], ['Koffiecocktail met vlierbloesemsiroop en munt', '\\n\\nFeest? Vergeet de klassiekers en shake een cocktail met Tia Maria, koffie en vlierbloesemsiroop niet. Door ook nog wat munt toe te voegen, wordt ie extra verfrissend. \\n\\n'], ['IJslolly’s met koffie', '\\n\\nO zo zoet, maar daarom ook o zo lekker, deze ijsjes op basis van koffie en slagroom. Maak er gelijk meer, zodat je uit kunt delen. \\ufeff\\n\\n'], ['Koekje bij de koffie, maar dan anders', '\\n\\nGeen koffie zonder koekje in Nederland. Juist daarom is het leuk om eens verrassend uit de hoek te komen en iets ‘erbij’ te serveren.\\n\\n'], ['Gezouten espressoboter', '\\n\\nWaarom niet, boter met gemalen koffie. Dat is weer eens een ander smeersel voor bij brood en een glas wijn. \\n\\n'], ['Breekchocolade', '\\n\\nOok als je onverwacht visite krijgt, wil je iets in huis hebben voor bij de koffie. Perfect hiervoor is deze grote plaat breekchocolade.\\n\\n'], ['Bananencake met crunchy topping', '\\n\\nHeb je te veel koffie op? Neem een banaan, dat neutraliseert. Dit is ook meteen een goede smoes om altijd een stuk bananencake bij je koffie te bestellen. \\n\\n'], ['Filterkoffie met hartige borrelhapjes', '\\n\\nHelemaal van nu: filterkoffie met iets hartigs, bijvoorbeeld borrelhapjes op basis van diverse soorten kaas\\n\\n'], ['3x koffie met een simpele twist', '\\n\\nKoffie kun je op verschillende manieren een simpele twist geven. Voeg bijvoorbeeld een klein scheutje kokossiroop toe aan je espresso.\\n\\n'], ['Wafels met koffiesiroop', '\\n\\nAls er één keukenapparaat het investeren waard is, dan is het wel een wafelijzer. Je maakt er in een handomdraai de lekkerste wafels mee.\\n\\n'], ['Galette met appel en hopjesvla', '\\n\\nEen ouderwetse appeltaart kennen we natuurlijk wel. Maar net zo lekker smaakt zijn galante vriend: de Franse galette.\\n\\n'], ['Smoothiebowl met koffiegranola', '\\n\\nWat een goed begin van de dag, deze smoothie in een kom. Al helemaal met de zelfgemaakte koffiegranola en vers fruit .\\n\\n'], ['Geroosterd suikerbrood met kokoshangop', '\\n\\nSuikerbrood – in het Fries sûkerbôle – is een echte Friese lekkernij. Serveer ‘m geroosterd bij de koffie met een heerlijke kokoshangop.\\n\\n'], ['Koffiesmoothie met banaan en kaneel', '\\n\\nGeen tijd om te ontbijten? Met deze smoothie van banaan en koffie vlieg je zo de deur uit én heb je meteen je dosis cafeïne binnen.\\n\\n'], ['Kopi Soesoe', '\\n\\nKopi Soesoe is een Indonesische koffie met laagje gecondenseerde melk en kardemom. Hoe meer je je koffie roert, hoe zoeter de smaak. \\n\\n'], ['Vanille-ijs met suikerspin en espresso', '\\n\\nZin in een ijsje na het eten? Dit toetje is super-zoet maar ontzettend lekker.\\n\\n'], ['Mini-chocoladetaartjes op een vorkje', '\\n\\nWat een binnenkomer, deze mini-chocoladetaartjes. Niet alleen lekker en een lust voor het oog, ze zijn ook nog eens makkelijk te maken én er komt geen oven, keukenmachine of mixer aan te pas.\\n\\n'], ['Caffè Covalo: espresso met likeur', '\\n\\nMet deze Italiaanse koffiedrank op basis van Moretta Covalo maak je vrienden. Drink hem warm of koud met ijs: allebei een groot succes. \\n\\n'], ['Heerlijk avondje? Bak speculaaspannenkoeken!', '\\n\\nHet heerlijk avondje begint ’s ochtends al met deze heerlijke speculaaspannenkoeken. \\n\\n'], ['Pepernoten met koffiesmaak en witte chocolade', '\\n\\nWil je eens een andere pepernoot maken? Probeer dan deze met koffiesmaak, overgoten met witte chocolade. \\n\\n'], ['IJskoffie met limoen', '\\n\\nAls de zon schijnt en de lucht blauw is, dan is het tijd voor ijskoffie. Met een geraspte limoen maak je ‘m extra fris.\\n\\n'], ['Kaneelrolletjes voor bij de koffie', '\\n\\nMisschien ken je hem wel, de kanelbulle, het Zweedse broodje dat vaak geserveerd wordt bij de fika (koffie met iets lekkers) in Zweden. Het bakken waard! \\n\\n'], ['Bananencake zonder suiker', '\\n\\nCafeïne-overdosis? Neem dan een plak van deze bananencake zonder suiker! \\n\\n'], ['Filterkoffie met kokoswater: verfrissende zomerdrank', '\\n\\nAls je het ons vraagt dé zomerdrank van 2017: filterkoffie met kokoswater. Verfrissend én verrassend van smaak.\\n\\n'], ['Maak je eigen koffiesiroop', '\\n\\nOp zoek naar een lekker toetje? Wat dacht je van ijs met zelfgemaakte koffiesiroop! \\n\\n'], ['IJskoffie met een vleugje gember', '\\n\\nAfkoelen? Dat doe je met de ijskoffie van Batavia Dutch Coffee. Verrassend lekker in combinatie met Ginger Ale. \\n\\n'], ['Zelf amandelmelk maken: zó doe je dat!', '\\n\\nBen je opzoek naar een alternatief voor koemelk in je koffie?  Probeer dan eens notenmelk. \\n\\n'], ['Avocado-limoentaartjes voor bij de koffie', '\\n\\nEen taartje met avocado klinkt misschien wat vreemd, maar het is echt het maken én het proeven waard! \\n\\n'], ['Koffie met een vleugje hazelnoot', '\\n\\nKoffie met hazelnootsmaak? Niet met siroop en suikers, maar gewoon met echte hazelnoten. \\n\\n'], ['Lange vingers om te dippen in je koffie', '\\n\\nLange vingers zijn ook ontzettend lekker om gewoon een beetje te dippen in je koffie. Uiteraard zelfgemaakt! \\n\\n'], ['Koffie en… bananenbrood met pecannoten', '\\n\\nOei, wat moeten we vandaag weer bij de koffie serveren? Wij zeggen: bananenbrood met pecannoten!  \\n\\n'], ['Spaanse koffie met Licor 43', '\\n\\nDeze Spaanse koffie met Licor 43 doet niet onder voor de Irish Coffee! \\n\\n'], ['Snel en makkelijk toetje: bonbon koffie', '\\n\\nVoor de zoetekauw én de koffieliefhebber: bonbon koffie!\\n\\n'], ['Feestje? Serveer deze koffiecocktail!', '\\n\\nWil je eens iets anders inschenken op een feestje? Probeer deze koffiecocktail op basis van wodka en bruine suiker. \\n\\n'], ['Mmm… chocoladekoffiepasta op een pannenkoek', '\\n\\nHet heeft acht lettergrepen en is ontzettend lekker op een pannenkoek: chocoladekoffiepasta. \\n\\n'], ['Zo maak je Irish coffee', '\\n\\nIrish Coffee: een klassieker die je ten alle tijden kunt serveren! \\n\\n'], ['Lekker én gezond: chocolade-kokostaart', '\\n\\nTaart bij de koffie? Wij serveren deze chocolade-kokostaart! \\n\\n'], ['Dadeltaart, die je niet niet hoeft te bakken…', '\\n\\nWil je niet uren in de keuken staan om iets lekkers bij de koffie te serveren? Maak deze dadeltaart die je niet hoeft te bakken.\\n\\n'], ['Word wakker met espresso muesli', '\\n\\nDe beste start van de dag? Met koffie én espresso muesli! \\n\\n'], ['Lekker bij de koffie: chocoladebananen', '\\n\\nVergeet het koekje bij de koffie, maar serveer deze chocoladebananen. \\n\\n'], ['Voor bij de koffie: Slutty Brownies', '\\n\\nWil je brownies bakken, doe het doe eens lekker fout. En met fout bedoelen we Slutty Brownies, speciale brownies die bestaan uit drie lagen: cookie dough, Oreos en browniebeslag.\\n\\n'], ['Bij de koffie: Arretjescake', '\\n\\nChocolade doet het altijd goed bij de koffie. Zo ook deze gezonde arretjescake met een intense chocoladesmaak. \\n\\n'], ['Espresso op z’n Vietnamees', '\\n\\nMet oog op de zomer zetten we de koffie weer koud. Geïnspireerd op onze reis naar Vietnam doen we dat met een zoete variant.\\n\\n'], ['Zelfgemaakte ijsjes van koffie', '\\n\\nDol op koffie én ijs? Dan is dit een recept waar je niet omheen kunt: ijsjes van koffie! \\n\\n'], ['Zo maak je bulletproof coffee', '\\n\\nTrend of toch niet? Wij gingen gingen aan de slag met de bulletproof coffee. Deze koffie kan worden gebruikt ter vervanging van je ontbijt.\\n\\n'], ['Koffiecakerol voor bij de koffie', '\\n\\nMet deze koffiecakerol pak je iedereen in. En schrik niet van de lange ingredientenlijst, want je maakt hem in een handomdraai.\\n\\n'], ['Koffie met chocolademelk', '\\n\\nEr zijn heel veel variaties mogelijk met koffie. Denk bijvoorbeeld aan de combinatie van chocolademelk met een espresso. \\n\\n'], ['Koffietrend: zout in de koffie', '\\n\\nNieuwe trend: koffie met zout. Een klein mespuntje geeft de koffie direct een andere beleving. \\n\\n'], ['Koffiecocktail met espressolikeur en amandelmelk', '\\n\\nKoffie als ingrediënt in een cocktail, waarom niet! Zo vormen een scheut espressolikeur en amandelmelk de basis voor een verrassende cocktail.\\n\\n'], ['Filterkoffie met amandelmelk', '\\n\\nBen je gewend om koffie te drinken met koffiemelk, probeer dan eens amandelmelk. Extra lekker als je het opwarmt! \\n\\n'], ['Koffieshake met amandelmelk & cacao', '\\n\\nAls je helemaal weg bent van shakes en koffie, dan is dit het ultieme recept voor een heerlijke koffieshake! \\n\\n'], ['Muffins met koffiesmaak', '\\n\\nMuffins zijn heerlijk bij de koffie, al helemaal als ze ook nog eens een subtiele koffiesmaak hebben. \\n\\n'], ['Koffiesnack: geroosterde honingnoten uit de oven', '\\n\\nNootjes zijn lekker, gezond en perfect als tussendoortje bij de koffie. Geef ze deze zoete twist! \\n\\n'], ['Koffie met sojamelk graag!', '\\n\\n Soja is van zichzelf zoeter dan melk, hierdoor heb je dus extra smaak aan je dagelijks bakkie en is suiker niet eens nodig.\\n\\n'], ['Carrotcake van speltmeel', '\\n\\nCarrotcake is een heerlijke taart/cake met walnoten en een kruidige speculaassmaak. Lekker om bij de koffie te serveren! \\n\\n'], ['Boterkoekjes met koffiebonen', '\\n\\nAls je dan toch een koekje bij de koffie serveert, mag het best wel speciaal zijn. Bak ze zelf en maak ze stoer met koffiebonen!\\n\\n'], ['Kokosbollen voor extra energie', '\\n\\nHeb je aan een straffe espresso niet genoeg? Serveer er deze kokosbollen bij voor een extra energieshot. \\n\\n'], ['Cold brew coffee van Le Froid', '\\n\\nTijd om af te koelen? Maak dan een cold brew coffee met behulp van Le Froid. Je kunt er verschillende recepten meemaken. Hierbij twee opties! \\n\\n'], ['Deze thee geeft je een koffiekick', '\\n\\nAls je eens iets anders wilt drinken dan koffie in de ochtend, dan is deze sterke ontbijtthee de perfecte ‘koffiekick’. \\n\\n'], ['Amandelmelk in je koffie', '\\n\\nKoffie met melk? Denk hierbij niet alleen aan melk of sojamelk, ook met amandelmelk kun je volop experimenteren!\\n\\n'], ['Lust je geen koffie? Maak een chocolade frappuccino', '\\n\\nVoor iedereen die niet koffie lust: maak eens een chocolade frappuccino. Deze ijskoffie is een voorzichtige kennismaking met koffie. Hierbij het recept! \\n\\n'], ['Bokkenpootjes bij de koffie', '\\n\\nVergeet de carrotcake, appeltaart en brownies. Wij serveren gewoon old school bokkenpootjes bij de koffie. Hierbij het recept! \\n\\n'], ['Koffiesnack: abrikozen met choclade', '\\n\\nEen lekkere snack voor bij de koffie zijn deze abrikozen met chocolade. Makkelijk om te maken en de smaak combineert goed bij een fruitige Afrikaanse koffie. \\n\\n'], ['Lolly’s met koffieboontjes', '\\n\\nAlle gekheid op een stokje met deze gedecoreerde koffielolly’s. Lekker om te serveren bij een filterkoffie of als zoete tegenhanger van een sterke espresso.\\n\\n'], ['Gesuikerde hazelnoten bij de koffie', '\\n\\nWil je eens iets anders dan taart of koek bij de koffie serveren? Kies dan voor een schaaltje met gesuikerde hazelnoten. Hierbij het recept!\\n\\n'], ['Gezonde snack bij de koffie?', '\\n\\nOp zoek naar een gezonde snack voor bij de koffie? De Koffiefilters maakten deze gezonde reep van zaden, noten, vruchten en kokosolie.\\n\\n'], ['Koffiecocktail met kokosmelk', '\\n\\nWil je je koffie een exotische touch geven? Combineer dan je barista skills met je bartender skills en shake deze heerlijke koffiecocktail met een vleugje kokosmelk!\\xa0\\n\\n'], ['Espresso met Beerenburg', '\\n\\nOpwarmertje nodig? Gooi een scheutje Beerenburg door je espresso en je hebt het instant warm! \\xa0\\n\\n'], ['Hip in Azië: Sea Salt Coffee', '\\n\\nVoor deze Salt Sea Coffee zet je eerst filterkoffie met de Chemex of de French Press.\\n\\n'], ['Cappuccino met kruimels van bastognekoekjes', '\\n\\nEen andere draai geven aan je dagelijkse cappuccino? Rasp een bastognekoekje over het melkschuim! Snel, simpel en ontzettend lekker. Je \\xa0gasten zullen verrast zijn!\\n\\n'], ['Koffie milkshake: snel én lekker', '\\n\\nEen milkshake banaan, aardbei of vanille kennen we inmiddels wel. Als echte koffieliefhebber maak je ‘m natuurlijk met koffie. Hieronder het snelle recept voor een koffie milkshake!\\xa0 Ingrediënten – 2 koppen sterke koffie à 150 ml – 400 ml volle melk – 900 ml slagroomijs Extra – blender Zo maak je het! Doe 1 kop […]\\n\\n'], ['Bij de koffie: Bananabread', '\\n\\nLaten we eerlijk zijn, zo af en toe hoort er bij koffie iets lekkers. De Zweden gaan voor een kanelbulle, de Turken voor baklava en wij? Wij doen het precies zoals de Panamezen met een stukje bananabread bij ons bakkie. Ingrediënten – 500 gram zelfrijzend bakmeel – 4 overrijpe bananen (hoe rijper, hoe meer smaak) […]\\n\\n'], ['Babyccino: zo maak je het!', '\\n\\nMet koffie kun je niet vroeg genoeg beginnen. Een grote trend onder koffiebars in New York en Australië is de babyccino, een hippe kleuterkoffie die bestaat uit opgeschuimde melk en een laagje chocoladepoeder. Wij maakten zelf een variant waarmee je je peuter, kleuter, neefje of nichtje de passie voor koffie al vroeg kunt aanleren.\\xa0 Ingrediënten […]\\n\\n'], ['Koffiecocktail met Tia Maria', '\\n\\nKunnen de benen weer bloot of geef je een feestje? Serveer deze heerlijke koffiecocktail met Tia Maria. Daarnaast voeg je een halve sinaasappel en bruine suiker toe. Proost!\\xa0 Ingrediënten – bruine suiker – halve sinaasappel – Tia Maria – gemalen koffiebonen (wij gebruikten koffiebonen uit Panama, La Esmeralda van de Espressofabriek) Zo maak je het! […]\\n\\n'], ['Toetje: Koffie mousse', '\\n\\nDe echte koffieliefhebber zegt nee tegen gele vla en gaat de keuken in met het recept van deze koffie mousse. Wij hebben in lange tijd niet zo’n lekker toetje gehad! Ingrediënten – 3 eieren – 200 ml slagroom – 100 – 150 ml espresso koffie – 2 theelepeltjes of een kleine eetlepel oploskoffie – 60-70 […]\\n\\n'], ['Tiramisu met Fairtrade espresso', '\\n\\nWat moeten we toch zonder de Italianen? Ze hebben niet alleen de espresso in het leven geroepen, maar zijn ook nog de bedenkers van tiramisu. Dit heerlijke toetje moet je eens gemaakt hebben!\\xa0 Wij gaan binnenkort aan de slag met dit lekkere recept van\\xa0ZTRDG. Hiervoor gebruiken we zo veel mogelijk Fairtrade producten. Ja, ook de […]\\n\\n'], ['Sinterklaaskoffie met pepernootkruimels', '\\n\\nGeef je koffie een twist met pepernoten. Hoe? Verkruimel een paar pepernoten en strooi het over het melkschuim.\\n\\n'], ['Maak je eigen Pumpkin Spice Latte', '\\n\\nDol op de Pumkin Spice Latte van Starbucks? Je kunt ‘m ook eenvoudig zelf maken. Hierbij het recept! \\n\\n'], ['Video: Japanse ijskoffie', '\\n\\nAlvast een voorproefje op de lente met deze Japanse ijskoffie. Bijzonder aan deze Japanse variant is dat er warme koffie op ijsklontjes wordt gegoten om zo de smaak van de koffie intact te houden. Bekijk deze video en ontdek van a tot z hoe je Japanse ijskoffie maakt. Wij zetten ‘m in ieder geval tijdens […]\\n\\n']]\n"
     ]
    }
   ],
   "source": [
    "recepten_lijst =[]\n",
    "\n",
    "for coffee_recept in coffee_recepten:\n",
    "    title_element = coffee_recept.find(class_=\"entry-title\").get_text()\n",
    "    intro_element = coffee_recept.find(class_=\"entry-content\").get_text()\n",
    "    # print(title_element)\n",
    "    # print(intro_element)\n",
    "    recepten_lijst.append([title_element, intro_element])\n",
    "    # print()\n",
    "\n",
    "print(recepten_lijst[:100])"
   ]
  },
  {
   "cell_type": "code",
   "execution_count": 7,
   "metadata": {},
   "outputs": [
    {
     "name": "stdout",
     "output_type": "stream",
     "text": [
      "                                               Title  \\\n",
      "0                          Traditionele Arretjescake   \n",
      "1  Zo maak je fryramisu (tiramisu met Fryske dúmkes)   \n",
      "2            Dé frisse koffiecocktail van deze zomer   \n",
      "3                        De populaire Dalgona koffie   \n",
      "4         Koffie milkshake met vanille-ijs en banaan   \n",
      "\n",
      "                                         Description  \n",
      "0  \\n\\nDeze cake is perfect bij de koffie door zi...  \n",
      "1  \\n\\nFyramisu. Want wat met lange vingers kan, ...  \n",
      "2  \\n\\nProbeer deze heerlijke frisse koffiecockta...  \n",
      "3  \\n\\nFluffy ijskoffie is de koffie trend van 20...  \n",
      "4  \\n\\nZin in een zoete koffie variant? Deze koff...  \n"
     ]
    }
   ],
   "source": [
    "df = pd.DataFrame(recepten_lijst, columns=[\"Title\", \"Description\"])\n",
    "print(df.head())"
   ]
  },
  {
   "cell_type": "code",
   "execution_count": 9,
   "metadata": {},
   "outputs": [],
   "source": [
    "df[\"Description\"] = df[\"Description\"].str.replace(\"\\n\\n\",\"\")"
   ]
  },
  {
   "cell_type": "code",
   "execution_count": 10,
   "metadata": {},
   "outputs": [
    {
     "data": {
      "text/html": [
       "<div>\n",
       "<style scoped>\n",
       "    .dataframe tbody tr th:only-of-type {\n",
       "        vertical-align: middle;\n",
       "    }\n",
       "\n",
       "    .dataframe tbody tr th {\n",
       "        vertical-align: top;\n",
       "    }\n",
       "\n",
       "    .dataframe thead th {\n",
       "        text-align: right;\n",
       "    }\n",
       "</style>\n",
       "<table border=\"1\" class=\"dataframe\">\n",
       "  <thead>\n",
       "    <tr style=\"text-align: right;\">\n",
       "      <th></th>\n",
       "      <th>Title</th>\n",
       "      <th>Description</th>\n",
       "    </tr>\n",
       "  </thead>\n",
       "  <tbody>\n",
       "    <tr>\n",
       "      <th>0</th>\n",
       "      <td>Traditionele Arretjescake</td>\n",
       "      <td>Deze cake is perfect bij de koffie door zijn i...</td>\n",
       "    </tr>\n",
       "    <tr>\n",
       "      <th>1</th>\n",
       "      <td>Zo maak je fryramisu (tiramisu met Fryske dúmkes)</td>\n",
       "      <td>Fyramisu. Want wat met lange vingers kan, kan ...</td>\n",
       "    </tr>\n",
       "    <tr>\n",
       "      <th>2</th>\n",
       "      <td>Dé frisse koffiecocktail van deze zomer</td>\n",
       "      <td>Probeer deze heerlijke frisse koffiecocktail m...</td>\n",
       "    </tr>\n",
       "    <tr>\n",
       "      <th>3</th>\n",
       "      <td>De populaire Dalgona koffie</td>\n",
       "      <td>Fluffy ijskoffie is de koffie trend van 2020. ...</td>\n",
       "    </tr>\n",
       "    <tr>\n",
       "      <th>4</th>\n",
       "      <td>Koffie milkshake met vanille-ijs en banaan</td>\n",
       "      <td>Zin in een zoete koffie variant? Deze koffie m...</td>\n",
       "    </tr>\n",
       "  </tbody>\n",
       "</table>\n",
       "</div>"
      ],
      "text/plain": [
       "                                               Title  \\\n",
       "0                          Traditionele Arretjescake   \n",
       "1  Zo maak je fryramisu (tiramisu met Fryske dúmkes)   \n",
       "2            Dé frisse koffiecocktail van deze zomer   \n",
       "3                        De populaire Dalgona koffie   \n",
       "4         Koffie milkshake met vanille-ijs en banaan   \n",
       "\n",
       "                                         Description  \n",
       "0  Deze cake is perfect bij de koffie door zijn i...  \n",
       "1  Fyramisu. Want wat met lange vingers kan, kan ...  \n",
       "2  Probeer deze heerlijke frisse koffiecocktail m...  \n",
       "3  Fluffy ijskoffie is de koffie trend van 2020. ...  \n",
       "4  Zin in een zoete koffie variant? Deze koffie m...  "
      ]
     },
     "execution_count": 10,
     "metadata": {},
     "output_type": "execute_result"
    }
   ],
   "source": [
    "df.head()"
   ]
  },
  {
   "cell_type": "code",
   "execution_count": 47,
   "metadata": {},
   "outputs": [],
   "source": [
    "df.to_csv('koffie_recepten.csv')"
   ]
  }
 ],
 "metadata": {
  "kernelspec": {
   "display_name": ".env",
   "language": "python",
   "name": "python3"
  },
  "language_info": {
   "codemirror_mode": {
    "name": "ipython",
    "version": 3
   },
   "file_extension": ".py",
   "mimetype": "text/x-python",
   "name": "python",
   "nbconvert_exporter": "python",
   "pygments_lexer": "ipython3",
   "version": "3.10.9"
  },
  "orig_nbformat": 4,
  "vscode": {
   "interpreter": {
    "hash": "b60f23928ea89522751c7f701c6087aa57828da8bbbab870d231cc5711a0531f"
   }
  }
 },
 "nbformat": 4,
 "nbformat_minor": 2
}
